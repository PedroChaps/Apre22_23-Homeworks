{
 "cells": [
  {
   "cell_type": "markdown",
   "metadata": {},
   "source": [
    "# Evaluation"
   ]
  },
  {
   "cell_type": "code",
   "execution_count": 1,
   "metadata": {},
   "outputs": [],
   "source": [
    "import pandas as pd, numpy as np\n",
    "import matplotlib.pyplot as plt\n",
    "import seaborn as sns"
   ]
  },
  {
   "cell_type": "code",
   "execution_count": 2,
   "metadata": {},
   "outputs": [
    {
     "data": {
      "text/html": [
       "<div>\n",
       "<style scoped>\n",
       "    .dataframe tbody tr th:only-of-type {\n",
       "        vertical-align: middle;\n",
       "    }\n",
       "\n",
       "    .dataframe tbody tr th {\n",
       "        vertical-align: top;\n",
       "    }\n",
       "\n",
       "    .dataframe thead th {\n",
       "        text-align: right;\n",
       "    }\n",
       "</style>\n",
       "<table border=\"1\" class=\"dataframe\">\n",
       "  <thead>\n",
       "    <tr style=\"text-align: right;\">\n",
       "      <th></th>\n",
       "      <th>Pregnancies</th>\n",
       "      <th>Glucose</th>\n",
       "      <th>BloodPressure</th>\n",
       "      <th>SkinThickness</th>\n",
       "      <th>Insulin</th>\n",
       "      <th>BMI</th>\n",
       "      <th>DiabetesPedigreeFunction</th>\n",
       "      <th>Age</th>\n",
       "      <th>Outcome</th>\n",
       "    </tr>\n",
       "  </thead>\n",
       "  <tbody>\n",
       "    <tr>\n",
       "      <th>0</th>\n",
       "      <td>6</td>\n",
       "      <td>148</td>\n",
       "      <td>72</td>\n",
       "      <td>35</td>\n",
       "      <td>0</td>\n",
       "      <td>33.6</td>\n",
       "      <td>0.627</td>\n",
       "      <td>50</td>\n",
       "      <td>1</td>\n",
       "    </tr>\n",
       "    <tr>\n",
       "      <th>1</th>\n",
       "      <td>1</td>\n",
       "      <td>85</td>\n",
       "      <td>66</td>\n",
       "      <td>29</td>\n",
       "      <td>0</td>\n",
       "      <td>26.6</td>\n",
       "      <td>0.351</td>\n",
       "      <td>31</td>\n",
       "      <td>0</td>\n",
       "    </tr>\n",
       "    <tr>\n",
       "      <th>2</th>\n",
       "      <td>8</td>\n",
       "      <td>183</td>\n",
       "      <td>64</td>\n",
       "      <td>0</td>\n",
       "      <td>0</td>\n",
       "      <td>23.3</td>\n",
       "      <td>0.672</td>\n",
       "      <td>32</td>\n",
       "      <td>1</td>\n",
       "    </tr>\n",
       "    <tr>\n",
       "      <th>3</th>\n",
       "      <td>1</td>\n",
       "      <td>89</td>\n",
       "      <td>66</td>\n",
       "      <td>23</td>\n",
       "      <td>94</td>\n",
       "      <td>28.1</td>\n",
       "      <td>0.167</td>\n",
       "      <td>21</td>\n",
       "      <td>0</td>\n",
       "    </tr>\n",
       "    <tr>\n",
       "      <th>4</th>\n",
       "      <td>0</td>\n",
       "      <td>137</td>\n",
       "      <td>40</td>\n",
       "      <td>35</td>\n",
       "      <td>168</td>\n",
       "      <td>43.1</td>\n",
       "      <td>2.288</td>\n",
       "      <td>33</td>\n",
       "      <td>1</td>\n",
       "    </tr>\n",
       "  </tbody>\n",
       "</table>\n",
       "</div>"
      ],
      "text/plain": [
       "   Pregnancies  Glucose  BloodPressure  SkinThickness  Insulin   BMI  \\\n",
       "0            6      148             72             35        0  33.6   \n",
       "1            1       85             66             29        0  26.6   \n",
       "2            8      183             64              0        0  23.3   \n",
       "3            1       89             66             23       94  28.1   \n",
       "4            0      137             40             35      168  43.1   \n",
       "\n",
       "   DiabetesPedigreeFunction  Age  Outcome  \n",
       "0                     0.627   50        1  \n",
       "1                     0.351   31        0  \n",
       "2                     0.672   32        1  \n",
       "3                     0.167   21        0  \n",
       "4                     2.288   33        1  "
      ]
     },
     "execution_count": 2,
     "metadata": {},
     "output_type": "execute_result"
    }
   ],
   "source": [
    "data = pd.read_csv('https://raw.githubusercontent.com/plotly/datasets/master/diabetes.csv', delimiter=',')\n",
    "data.head()"
   ]
  },
  {
   "cell_type": "code",
   "execution_count": 3,
   "metadata": {},
   "outputs": [
    {
     "name": "stdout",
     "output_type": "stream",
     "text": [
      "train size: 537 \n",
      "test size: 231\n"
     ]
    }
   ],
   "source": [
    "from sklearn.model_selection import train_test_split\n",
    "x, y = data.drop(\"Outcome\", axis=1), np.ravel(data['Outcome'])\n",
    "x_train, x_test, y_train, y_test = train_test_split(x, y, test_size = 0.3, random_state=50)\n",
    "print(\"train size:\",len(x_train),\"\\ntest size:\",len(x_test))"
   ]
  },
  {
   "cell_type": "code",
   "execution_count": 30,
   "metadata": {},
   "outputs": [
    {
     "ename": "NameError",
     "evalue": "name 'sklearn' is not defined",
     "output_type": "error",
     "traceback": [
      "\u001b[1;31m---------------------------------------------------------------------------\u001b[0m",
      "\u001b[1;31mNameError\u001b[0m                                 Traceback (most recent call last)",
      "\u001b[1;32m<ipython-input-30-17d6a186f286>\u001b[0m in \u001b[0;36m<module>\u001b[1;34m\u001b[0m\n\u001b[0;32m      1\u001b[0m \u001b[1;31m# normalize data\u001b[0m\u001b[1;33m\u001b[0m\u001b[1;33m\u001b[0m\u001b[1;33m\u001b[0m\u001b[0m\n\u001b[1;32m----> 2\u001b[1;33m \u001b[0mscaler\u001b[0m \u001b[1;33m=\u001b[0m \u001b[0msklearn\u001b[0m\u001b[1;33m.\u001b[0m\u001b[0mpreprocessing\u001b[0m\u001b[1;33m.\u001b[0m\u001b[0mStandardScaler\u001b[0m\u001b[1;33m(\u001b[0m\u001b[1;33m)\u001b[0m\u001b[1;33m.\u001b[0m\u001b[0mfit\u001b[0m\u001b[1;33m(\u001b[0m\u001b[0mx_train\u001b[0m\u001b[1;33m)\u001b[0m\u001b[1;33m\u001b[0m\u001b[1;33m\u001b[0m\u001b[0m\n\u001b[0m\u001b[0;32m      3\u001b[0m \u001b[0mx\u001b[0m\u001b[1;33m,\u001b[0m \u001b[0mx_train\u001b[0m\u001b[1;33m,\u001b[0m \u001b[0mx_test\u001b[0m \u001b[1;33m=\u001b[0m \u001b[0mscaler\u001b[0m\u001b[1;33m.\u001b[0m\u001b[0mtransform\u001b[0m\u001b[1;33m(\u001b[0m\u001b[0mx\u001b[0m\u001b[1;33m)\u001b[0m\u001b[1;33m,\u001b[0m \u001b[0mscaler\u001b[0m\u001b[1;33m.\u001b[0m\u001b[0mtransform\u001b[0m\u001b[1;33m(\u001b[0m\u001b[0mx_train\u001b[0m\u001b[1;33m)\u001b[0m\u001b[1;33m,\u001b[0m \u001b[0mscaler\u001b[0m\u001b[1;33m.\u001b[0m\u001b[0mtransform\u001b[0m\u001b[1;33m(\u001b[0m\u001b[0mx_test\u001b[0m\u001b[1;33m)\u001b[0m\u001b[1;33m\u001b[0m\u001b[1;33m\u001b[0m\u001b[0m\n",
      "\u001b[1;31mNameError\u001b[0m: name 'sklearn' is not defined"
     ]
    }
   ],
   "source": [
    "from sklearn.preprocessing import StandardScaler\n",
    "\n",
    "# normalize data\n",
    "scaler = StandardScaler().fit(x_train)\n",
    "x, x_train, x_test = scaler.transform(x), scaler.transform(x_train), scaler.transform(x_test)"
   ]
  },
  {
   "cell_type": "code",
   "execution_count": 5,
   "metadata": {},
   "outputs": [
    {
     "name": "stdout",
     "output_type": "stream",
     "text": [
      "Reference:\n",
      " [0 1 0 0 0 0 0 1 0 0 0 0 0 0 0 0 1 0 0 1 0 0 1 0 0 0 0 1 0 1 1 0 0 1 0 0 0\n",
      " 0 1 0 1 0 0 1 0 0 1 0 0 0 0 0 0 0 1 1 1 0 0 0 1 0 0 0 0 1 0 0 1 0 0 1 1 0\n",
      " 0 1 0 0 0 1 0 0 1 1 1 1 0 1 0 1 0 0 1 0 1 0 1 0 1 0 1 0 0 0 0 0 1 0 0 0 0\n",
      " 0 1 1 0 1 0 0 1 1 0 0 0 0 0 0 1 0 1 1 1 0 1 0 0 0 0 0 1 1 0 0 1 1 0 0 0 1\n",
      " 1 0 1 0 0 1 0 1 0 0 1 1 0 0 0 0 1 1 0 1 1 0 0 0 1 1 1 1 1 1 0 0 0 0 0 1 0\n",
      " 1 0 0 1 0 1 0 1 0 0 0 0 1 0 1 0 1 0 1 0 0 0 0 0 1 0 0 0 0 1 0 0 0 0 1 0 0\n",
      " 1 0 0 1 1 0 1 1 0] \n",
      "Prediction:\n",
      " [0 1 0 0 0 0 0 0 0 0 0 0 0 0 0 1 1 0 0 0 1 0 0 0 0 0 1 0 1 1 0 0 0 0 0 0 0\n",
      " 0 1 0 1 1 0 0 0 0 1 0 0 0 0 0 0 1 0 1 0 0 0 0 1 0 0 0 0 1 0 1 1 0 0 1 1 0\n",
      " 1 1 0 0 0 0 0 0 0 1 1 0 1 0 0 0 0 0 1 1 0 0 1 0 1 1 0 1 0 0 1 0 1 0 0 0 0\n",
      " 0 0 0 0 0 1 0 1 0 0 0 0 1 0 0 1 1 0 1 0 0 1 0 0 0 0 0 0 1 0 0 0 1 0 0 1 1\n",
      " 1 0 0 0 0 1 0 1 0 1 1 0 0 1 0 0 1 1 0 0 1 1 0 0 1 0 0 0 0 0 0 0 0 0 0 1 0\n",
      " 1 0 0 1 0 0 0 1 0 0 0 1 1 0 1 1 0 0 0 1 0 0 0 0 1 0 0 0 0 1 0 1 0 0 0 0 0\n",
      " 1 0 0 0 1 1 1 0 0]\n",
      "Probability of class 0 for first 10 observations:\n",
      " [0.13667861 0.99631469 0.06484607 0.02505453 0.02087744 0.14414391\n",
      " 0.00825    0.09665899 0.18282143 0.41094193]\n"
     ]
    }
   ],
   "source": [
    "from sklearn.naive_bayes import GaussianNB\n",
    "\n",
    "predictor = GaussianNB()\n",
    "predictor.fit(x_train, y_train)\n",
    "y_pred = predictor.predict(x_test)\n",
    "print(\"Reference:\\n\",y_test,\"\\nPrediction:\\n\",y_pred)\n",
    "y_pred_prob = predictor.predict_proba(x_test)[:,1]\n",
    "print(\"Probability of class 0 for first 10 observations:\\n\",y_pred_prob[0:10])"
   ]
  },
  {
   "cell_type": "markdown",
   "metadata": {},
   "source": [
    "### 1) Confusion-based scores"
   ]
  },
  {
   "cell_type": "code",
   "execution_count": 6,
   "metadata": {},
   "outputs": [
    {
     "data": {
      "text/html": [
       "<div>\n",
       "<style scoped>\n",
       "    .dataframe tbody tr th:only-of-type {\n",
       "        vertical-align: middle;\n",
       "    }\n",
       "\n",
       "    .dataframe tbody tr th {\n",
       "        vertical-align: top;\n",
       "    }\n",
       "\n",
       "    .dataframe thead th {\n",
       "        text-align: right;\n",
       "    }\n",
       "</style>\n",
       "<table border=\"1\" class=\"dataframe\">\n",
       "  <thead>\n",
       "    <tr style=\"text-align: right;\">\n",
       "      <th></th>\n",
       "      <th>Predicted Diabetes</th>\n",
       "      <th>Predicted Healthy</th>\n",
       "    </tr>\n",
       "  </thead>\n",
       "  <tbody>\n",
       "    <tr>\n",
       "      <th>Diabetic</th>\n",
       "      <td>123</td>\n",
       "      <td>25</td>\n",
       "    </tr>\n",
       "    <tr>\n",
       "      <th>Healthy</th>\n",
       "      <td>38</td>\n",
       "      <td>45</td>\n",
       "    </tr>\n",
       "  </tbody>\n",
       "</table>\n",
       "</div>"
      ],
      "text/plain": [
       "          Predicted Diabetes  Predicted Healthy\n",
       "Diabetic                 123                 25\n",
       "Healthy                   38                 45"
      ]
     },
     "execution_count": 6,
     "metadata": {},
     "output_type": "execute_result"
    }
   ],
   "source": [
    "from sklearn.metrics import classification_report, confusion_matrix\n",
    "\n",
    "cm = np.array(confusion_matrix(y_test, y_pred, labels=[0,1]))\n",
    "confusion = pd.DataFrame(cm, index=['Diabetic', 'Healthy'], columns=['Predicted Diabetes', 'Predicted Healthy'])\n",
    "confusion"
   ]
  },
  {
   "cell_type": "code",
   "execution_count": 7,
   "metadata": {},
   "outputs": [
    {
     "data": {
      "text/plain": [
       "<AxesSubplot:>"
      ]
     },
     "execution_count": 7,
     "metadata": {},
     "output_type": "execute_result"
    },
    {
     "data": {
      "image/png": "[encoded data removed]",
      "text/plain": [
       "<Figure size 432x288 with 2 Axes>"
      ]
     },
     "metadata": {
      "needs_background": "light"
     },
     "output_type": "display_data"
    }
   ],
   "source": [
    "sns.heatmap(confusion, annot=True, fmt='g')"
   ]
  },
  {
   "cell_type": "markdown",
   "metadata": {},
   "source": [
    "Accuray, recall, precision, specificity, F1, AUC"
   ]
  },
  {
   "cell_type": "code",
   "execution_count": 8,
   "metadata": {},
   "outputs": [
    {
     "name": "stdout",
     "output_type": "stream",
     "text": [
      "accuracy: 0.73\n",
      "recall/sensitivity: 0.54\n",
      "precision: 0.64\n"
     ]
    }
   ],
   "source": [
    "from sklearn import metrics\n",
    "print(\"accuracy:\",  round(metrics.accuracy_score(y_test, y_pred),2))\n",
    "print(\"recall/sensitivity:\", round(metrics.recall_score(y_test, y_pred),2))\n",
    "print(\"precision:\", round(metrics.precision_score(y_test, y_pred),2))"
   ]
  },
  {
   "cell_type": "code",
   "execution_count": 9,
   "metadata": {},
   "outputs": [
    {
     "name": "stdout",
     "output_type": "stream",
     "text": [
      "specificity: 0.83\n"
     ]
    }
   ],
   "source": [
    "tn, fp, fn, tp = confusion_matrix(y_test, y_pred).ravel()\n",
    "print(\"specificity:\", round(tn/(tn+fp),2))"
   ]
  },
  {
   "cell_type": "code",
   "execution_count": 10,
   "metadata": {},
   "outputs": [
    {
     "name": "stdout",
     "output_type": "stream",
     "text": [
      "F1 score: 0.59\n"
     ]
    }
   ],
   "source": [
    "print(\"F1 score:\", round(metrics.f1_score(y_test, y_pred),2))"
   ]
  },
  {
   "cell_type": "code",
   "execution_count": 11,
   "metadata": {},
   "outputs": [
    {
     "name": "stdout",
     "output_type": "stream",
     "text": [
      "AUC: 0.8\n"
     ]
    }
   ],
   "source": [
    "auc = metrics.roc_auc_score(y_test, y_pred_prob)\n",
    "print(\"AUC:\", round(auc,2))"
   ]
  },
  {
   "cell_type": "code",
   "execution_count": 12,
   "metadata": {},
   "outputs": [
    {
     "name": "stdout",
     "output_type": "stream",
     "text": [
      "synthesis:               precision    recall  f1-score   support\n",
      "\n",
      "           0       0.76      0.83      0.80       148\n",
      "           1       0.64      0.54      0.59        83\n",
      "\n",
      "    accuracy                           0.73       231\n",
      "   macro avg       0.70      0.69      0.69       231\n",
      "weighted avg       0.72      0.73      0.72       231\n",
      "\n"
     ]
    }
   ],
   "source": [
    "print(\"synthesis:\",metrics.classification_report(y_test, y_pred, target_names=[str(i) for i in np.unique(y_test)]))"
   ]
  },
  {
   "cell_type": "markdown",
   "metadata": {},
   "source": [
    "Using **cross-validation**"
   ]
  },
  {
   "cell_type": "code",
   "execution_count": 13,
   "metadata": {},
   "outputs": [
    {
     "name": "stdout",
     "output_type": "stream",
     "text": [
      "accuracy: 0.76 ± 0.03\n",
      "AUC: 0.82 ± 0.05\n"
     ]
    }
   ],
   "source": [
    "from sklearn.model_selection import cross_val_score\n",
    "\n",
    "acc = cross_val_score(predictor, x, y, cv=10, scoring='accuracy')\n",
    "auc = cross_val_score(predictor, x, y, cv=10, scoring='roc_auc')\n",
    "\n",
    "print(\"accuracy:\",round(np.mean(acc),2),\"±\",round(np.std(acc),2))\n",
    "print(\"AUC:\",round(np.mean(auc),2),\"±\",round(np.std(auc),2))"
   ]
  },
  {
   "cell_type": "code",
   "execution_count": 14,
   "metadata": {},
   "outputs": [
    {
     "name": "stdout",
     "output_type": "stream",
     "text": [
      "recall: 0.59 ± 0.07\n",
      "accuracy: 0.67 ± 0.06\n",
      "f1: 0.63 ± 0.05\n"
     ]
    }
   ],
   "source": [
    "recall = cross_val_score(predictor, x, y, cv=10, scoring='recall')\n",
    "precision = cross_val_score(predictor, x, y, cv=10, scoring='precision')\n",
    "f1 = cross_val_score(predictor, x, y, cv=10, scoring='f1')\n",
    "\n",
    "print(\"recall:\",round(np.mean(recall),2),\"±\",round(np.std(recall),2))\n",
    "print(\"accuracy:\",round(np.mean(precision),2),\"±\",round(np.std(precision),2))\n",
    "print(\"f1:\",round(np.mean(f1),2),\"±\",round(np.std(f1),2))"
   ]
  },
  {
   "cell_type": "markdown",
   "metadata": {},
   "source": [
    "### 2) Statistically testing differences"
   ]
  },
  {
   "cell_type": "code",
   "execution_count": 26,
   "metadata": {},
   "outputs": [
    {
     "name": "stdout",
     "output_type": "stream",
     "text": [
      "Predictor 1 scores: [16.19055553 12.08020352  7.13840323  7.99030284  6.56359741 11.88887213\n",
      "  8.85181473  4.70786836  9.23116732  6.59677576] \n",
      "Predictor 2 scores: [18.38898936 14.90395596  5.80059183  9.61039775  6.77590322 10.46230431\n",
      " 10.72640394  9.09735115 11.98174401  9.76668423]\n"
     ]
    }
   ],
   "source": [
    "from scipy import stats\n",
    "\n",
    "# generate performance estimates for two predictors (simulate folds)\n",
    "pred_1 = stats.norm.rvs(loc=10, scale=5, size=10)\n",
    "pred_2 = pred_1 + stats.norm.rvs(loc=1, scale=2, size=10)\n",
    "print(\"Predictor 1 scores:\",pred_1,\"\\nPredictor 2 scores:\",pred_2)"
   ]
  },
  {
   "cell_type": "markdown",
   "metadata": {},
   "source": [
    "Assuming estimates follow a Gaussian assumption, we can test differences using t-Test"
   ]
  },
  {
   "cell_type": "code",
   "execution_count": 27,
   "metadata": {},
   "outputs": [
    {
     "name": "stdout",
     "output_type": "stream",
     "text": [
      "p1>p2? pval= 0.9873798591599994\n",
      "p1<p2? pval= 0.012620140840000564\n",
      "p1!=p2? pval= 0.025240281680001128\n"
     ]
    }
   ],
   "source": [
    "# predictor 1 is better than 2?\n",
    "res = stats.ttest_rel(pred_1, pred_2, alternative='greater')\n",
    "print(\"p1>p2? pval=\",res.pvalue)\n",
    "\n",
    "# predictor 2 is better than 1?\n",
    "res = stats.ttest_rel(pred_1, pred_2, alternative='less')\n",
    "print(\"p1<p2? pval=\",res.pvalue)\n",
    "\n",
    "# performance of predictor 1 differs from predictor 2?\n",
    "res = stats.ttest_rel(pred_1, pred_2, alternative='two-sided')\n",
    "print(\"p1!=p2? pval=\",res.pvalue)"
   ]
  },
  {
   "cell_type": "code",
   "execution_count": 28,
   "metadata": {},
   "outputs": [
    {
     "name": "stdout",
     "output_type": "stream",
     "text": [
      "p1>p2? pval= 0.15930506169190656\n"
     ]
    }
   ],
   "source": [
    "# predictions not collected from the same folds (to avoid at all costs)\n",
    "res = stats.ttest_ind(pred_1, pred_2, alternative='less')\n",
    "print(\"p1>p2? pval=\",res.pvalue)"
   ]
  },
  {
   "cell_type": "markdown",
   "metadata": {},
   "source": [
    "*Conclusion*: in a paired setting (estimates collected for the same folds), we observe that performance of predictor 2 is better than predictor 1 with statistical significance under a confidence threshold of 0.05 since 0.0126<0.05"
   ]
  },
  {
   "cell_type": "markdown",
   "metadata": {},
   "source": [
    "### 3) ROC curves"
   ]
  },
  {
   "cell_type": "markdown",
   "metadata": {},
   "source": [
    "Traditional ROC curve"
   ]
  },
  {
   "cell_type": "code",
   "execution_count": 18,
   "metadata": {},
   "outputs": [
    {
     "data": {
      "image/png": "[encoded data removed]",
      "text/plain": [
       "<Figure size 432x288 with 1 Axes>"
      ]
     },
     "metadata": {
      "needs_background": "light"
     },
     "output_type": "display_data"
    }
   ],
   "source": [
    "fpr, tpr, thresholds = metrics.roc_curve(y_test, y_pred_prob)\n",
    "roc_auc = metrics.auc(fpr, tpr)\n",
    "\n",
    "# plot ROC curve\n",
    "fig, ax = plt.subplots()\n",
    "ax.plot(fpr, tpr, color='darkorange', lw=3, label='area = %0.2f' % roc_auc)\n",
    "ax.plot([0,1], [0,1], color='navy', lw=3, linestyle='--')\n",
    "ax.set(xlabel='False Positive Rate', ylabel=\"True Positive Rate (Recall)\", title=\"Receiver operating characteristic\")     \n",
    "ax.legend(loc=\"lower right\")\n",
    "ax.grid(True)\n",
    "\n",
    "# annotate ROC thresholds\n",
    "thres_in_plot = []\n",
    "for i,t in enumerate(thresholds):\n",
    "    t = np.round(t,1)\n",
    "    if t not in thres_in_plot:\n",
    "        ax.annotate(t, xy=(fpr[i],tpr[i]), xytext=(fpr[i],tpr[i]),textcoords='offset points', ha='left', va='bottom')\n",
    "        thres_in_plot.append(t)"
   ]
  },
  {
   "cell_type": "markdown",
   "metadata": {},
   "source": [
    "Alternative **Precision-Recall curve**"
   ]
  },
  {
   "cell_type": "code",
   "execution_count": 19,
   "metadata": {},
   "outputs": [
    {
     "data": {
      "image/png": "[encoded data removed]",
      "text/plain": [
       "<Figure size 432x288 with 1 Axes>"
      ]
     },
     "metadata": {
      "needs_background": "light"
     },
     "output_type": "display_data"
    }
   ],
   "source": [
    "precisions, recalls, thresholds = metrics.precision_recall_curve(y_test, y_pred_prob)\n",
    "roc_auc = metrics.auc(recalls, precisions)\n",
    "\n",
    "# plot PR curve\n",
    "fig, ax = plt.subplots()\n",
    "ax.plot(recalls, precisions, color='darkorange', lw=3, label='area = %0.2f' % roc_auc)\n",
    "ax.plot([0,1], [(cm[1,0]+cm[1,0])/len(y_test), (cm[1,0]+cm[1,0])/len(y_test)], linestyle='--', color='navy', lw=3)\n",
    "ax.set(xlabel='Recall', ylabel=\"Precision\", title=\"Precision-Recall curve\")\n",
    "ax.legend(loc=\"lower left\")\n",
    "ax.grid(True)\n",
    "\n",
    "# annotate PR thresholds\n",
    "thres_in_plot = []\n",
    "for i,t in enumerate(thresholds):\n",
    "    t = np.round(t,1)\n",
    "    if t not in thres_in_plot:\n",
    "        ax.annotate(np.round(t,1), xy=(recalls[i],precisions[i]),xytext=(recalls[i],precisions[i]),textcoords='offset points', ha='left', va='bottom')\n",
    "        thres_in_plot.append(t)\n",
    "plt.show()"
   ]
  },
  {
   "cell_type": "markdown",
   "metadata": {},
   "source": [
    "Assess performance at different thresholds"
   ]
  },
  {
   "cell_type": "code",
   "execution_count": 20,
   "metadata": {},
   "outputs": [
    {
     "data": {
      "image/png": "[encoded data removed]",
      "text/plain": [
       "<Figure size 432x288 with 1 Axes>"
      ]
     },
     "metadata": {
      "needs_background": "light"
     },
     "output_type": "display_data"
    }
   ],
   "source": [
    "# acquire results\n",
    "thresholds = []\n",
    "dic_scores = {'accuracy':[], 'precision':[], 'recall':[], 'f1':[]}\n",
    "for threshold in np.arange(0.1, 1, step=0.1):\n",
    "    predicted = (y_pred_prob > threshold)\n",
    "    thresholds.append(threshold)\n",
    "    dic_scores[\"accuracy\"].append(metrics.accuracy_score(y_test, predicted))\n",
    "    dic_scores[\"precision\"].append(metrics.precision_score(y_test, predicted))\n",
    "    dic_scores[\"recall\"].append(metrics.recall_score(y_test, predicted))\n",
    "    dic_scores[\"f1\"].append(metrics.f1_score(y_test, predicted))\n",
    "\n",
    "# plot results\n",
    "fig, ax = plt.subplots()\n",
    "dtf_scores = pd.DataFrame(dic_scores).set_index(pd.Index(thresholds))    \n",
    "dtf_scores.plot(ax=ax, title=\"Threshold Selection\")\n",
    "plt.show()"
   ]
  },
  {
   "cell_type": "markdown",
   "metadata": {},
   "source": [
    "ROC curve per fold *versus* **mean ROC curve**"
   ]
  },
  {
   "cell_type": "code",
   "execution_count": 21,
   "metadata": {},
   "outputs": [
    {
     "data": {
      "image/png": "[encoded data removed]",
      "text/plain": [
       "<Figure size 432x288 with 1 Axes>"
      ]
     },
     "metadata": {
      "needs_background": "light"
     },
     "output_type": "display_data"
    }
   ],
   "source": [
    "from sklearn import model_selection\n",
    "\n",
    "tprs, aucs = [], []\n",
    "mean_fpr = np.linspace(0,1,100)\n",
    "cv = model_selection.StratifiedKFold(n_splits=10, shuffle=True)\n",
    "fig = plt.figure()\n",
    "i = 1\n",
    "\n",
    "for train, test in cv.split(x_train, y_train):\n",
    "    prediction = predictor.fit(x_train[train],y_train[train]).predict_proba(x_train[test])\n",
    "    fpr, tpr, t = metrics.roc_curve(y_train[test], prediction[:, 1])\n",
    "    tprs.append(np.interp(mean_fpr, fpr, tpr))\n",
    "    roc_auc = metrics.auc(fpr, tpr)\n",
    "    aucs.append(roc_auc)\n",
    "    plt.plot(fpr, tpr, lw=2, alpha=0.3, label='ROC fold %d (AUC = %0.2f)' % (i, roc_auc))\n",
    "    i = i+1\n",
    "\n",
    "plt.plot([0,1], [0,1], linestyle='--', lw=2, color='black')\n",
    "mean_tpr = np.mean(tprs, axis=0)\n",
    "mean_auc = metrics.auc(mean_fpr, mean_tpr)\n",
    "plt.plot(mean_fpr, mean_tpr, color='blue', label=r'Mean ROC (AUC = %0.2f )' % (mean_auc), lw=2, alpha=1)\n",
    "plt.xlabel('False Positive Rate')\n",
    "plt.ylabel('True Positive Rate')\n",
    "plt.legend(loc=\"lower right\")\n",
    "plt.show()"
   ]
  }
 ],
 "metadata": {
  "kernelspec": {
   "display_name": "Python 3",
   "language": "python",
   "name": "python3"
  },
  "language_info": {
   "codemirror_mode": {
    "name": "ipython",
    "version": 3
   },
   "file_extension": ".py",
   "mimetype": "text/x-python",
   "name": "python",
   "nbconvert_exporter": "python",
   "pygments_lexer": "ipython3",
   "version": "3.8.5"
  }
 },
 "nbformat": 4,
 "nbformat_minor": 4
}
